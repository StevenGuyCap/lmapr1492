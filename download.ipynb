{
 "cells": [
  {
   "cell_type": "code",
   "execution_count": 1,
   "id": "ef97f300",
   "metadata": {},
   "outputs": [],
   "source": [
    "# Section des import\n",
    "\n",
    "from pymatgen.ext.matproj import MPRester\n",
    "from pymatgen.io.cif import CifWriter"
   ]
  },
  {
   "cell_type": "code",
   "execution_count": 2,
   "id": "8055d62f",
   "metadata": {},
   "outputs": [],
   "source": [
    "# Clé de l'API\n",
    "\n",
    "k = \"zkUgCxiKVvQri3sF2Sx\""
   ]
  },
  {
   "cell_type": "code",
   "execution_count": 3,
   "id": "90403a82",
   "metadata": {},
   "outputs": [],
   "source": [
    "# Récupération du matériau\n",
    "\n",
    "with MPRester(k) as m:\n",
    "    structure = m.get_structure_by_material_id(\"mp-31454\")\n"
   ]
  },
  {
   "cell_type": "code",
   "execution_count": 4,
   "id": "a3d743c7",
   "metadata": {},
   "outputs": [],
   "source": [
    "# Ecriture en CIF\n",
    "\n",
    "w = CifWriter(structure,symprec=0.1)\n",
    "w.write_file('mp-31454.cif')"
   ]
  },
  {
   "cell_type": "code",
   "execution_count": null,
   "id": "a24b869f",
   "metadata": {},
   "outputs": [],
   "source": []
  }
 ],
 "metadata": {
  "kernelspec": {
   "display_name": "Python 3",
   "language": "python",
   "name": "python3"
  },
  "language_info": {
   "codemirror_mode": {
    "name": "ipython",
    "version": 3
   },
   "file_extension": ".py",
   "mimetype": "text/x-python",
   "name": "python",
   "nbconvert_exporter": "python",
   "pygments_lexer": "ipython3",
   "version": "3.6.8"
  }
 },
 "nbformat": 4,
 "nbformat_minor": 5
}
