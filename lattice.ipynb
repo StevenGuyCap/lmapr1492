{
 "cells": [
  {
   "cell_type": "code",
   "execution_count": 1,
   "id": "789973b4",
   "metadata": {},
   "outputs": [],
   "source": [
    "# Téléchargement du matériau attribué\n",
    "\n",
    "from pymatgen.ext.matproj import MPRester\n",
    "from pymatgen.io.cif import CifWriter\n",
    "\n",
    "k = \"zkUgCxiKVvQri3sF2Sx\"\n",
    "\n",
    "with MPRester(k) as m:\n",
    "    structure = m.get_structure_by_material_id(\"mp-31454\")\n",
    "    \n",
    "w = CifWriter(structure,symprec=0.1)\n",
    "w.write_file('mp-31454.cif')"
   ]
  },
  {
   "cell_type": "code",
   "execution_count": 2,
   "id": "4376b163",
   "metadata": {},
   "outputs": [],
   "source": [
    "# Import nécessaire à la suite du notebook\n",
    "\n",
    "from pymatgen.symmetry.analyzer import SpacegroupAnalyzer\n",
    "from pymatgen.symmetry.structure import SymmetrizedStructure\n",
    "from IPython.display import display, Math\n",
    "import numpy as np"
   ]
  },
  {
   "cell_type": "code",
   "execution_count": 3,
   "id": "737e49a5",
   "metadata": {},
   "outputs": [],
   "source": [
    "# Fonction pour arondir pour résultat plus lisible\n",
    "\n",
    "def roundWhenSmall(number,tol=1e-15) :\n",
    "    if -tol < number < tol :\n",
    "        return 0.0\n",
    "    return number\n",
    "\n",
    "vr = np.vectorize(roundWhenSmall)"
   ]
  },
  {
   "cell_type": "code",
   "execution_count": 4,
   "id": "bc57a3e2",
   "metadata": {},
   "outputs": [
    {
     "name": "stdout",
     "output_type": "stream",
     "text": [
      "====================\n",
      "Vecteurs du réseau direct :\n",
      "---------------\n",
      "Maille primitive :\n"
     ]
    },
    {
     "data": {
      "text/latex": [
       "$\\displaystyle \\overrightarrow{a}' = (0.000000,3.096764,3.096764)$"
      ],
      "text/plain": [
       "<IPython.core.display.Math object>"
      ]
     },
     "metadata": {},
     "output_type": "display_data"
    },
    {
     "data": {
      "text/latex": [
       "$\\displaystyle \\overrightarrow{b}' = (3.096764,0.000000,3.096764)$"
      ],
      "text/plain": [
       "<IPython.core.display.Math object>"
      ]
     },
     "metadata": {},
     "output_type": "display_data"
    },
    {
     "data": {
      "text/latex": [
       "$\\displaystyle \\overrightarrow{c}' = (3.096764,3.096764,0.000000)$"
      ],
      "text/plain": [
       "<IPython.core.display.Math object>"
      ]
     },
     "metadata": {},
     "output_type": "display_data"
    },
    {
     "name": "stdout",
     "output_type": "stream",
     "text": [
      "---------------\n",
      "Maille conventionnelle :\n"
     ]
    },
    {
     "data": {
      "text/latex": [
       "$\\displaystyle \\overrightarrow{a} = (6.193528,0.000000,0.000000)$"
      ],
      "text/plain": [
       "<IPython.core.display.Math object>"
      ]
     },
     "metadata": {},
     "output_type": "display_data"
    },
    {
     "data": {
      "text/latex": [
       "$\\displaystyle \\overrightarrow{b} = (0.000000,6.193528,0.000000)$"
      ],
      "text/plain": [
       "<IPython.core.display.Math object>"
      ]
     },
     "metadata": {},
     "output_type": "display_data"
    },
    {
     "data": {
      "text/latex": [
       "$\\displaystyle \\overrightarrow{c} = (0.000000,0.000000,6.193528)$"
      ],
      "text/plain": [
       "<IPython.core.display.Math object>"
      ]
     },
     "metadata": {},
     "output_type": "display_data"
    },
    {
     "name": "stdout",
     "output_type": "stream",
     "text": [
      "====================\n"
     ]
    }
   ],
   "source": [
    "# Vecteurs de base du réseau direct\n",
    "\n",
    "analyzer = SpacegroupAnalyzer(structure)\n",
    "conv = analyzer.get_conventional_standard_structure().lattice\n",
    "prim = structure.lattice\n",
    "\n",
    "convMat = conv.matrix\n",
    "primMat = prim.matrix\n",
    "\n",
    "convMatr = vr(convMat)\n",
    "primMatr = vr(primMat)\n",
    "\n",
    "print(20*\"=\")\n",
    "print(\"Vecteurs du réseau direct :\")\n",
    "print(15*\"-\")\n",
    "print(\"Maille primitive :\")\n",
    "display(Math(r\"\\overrightarrow{{a}}' = ({1:.6f},{2:.6f},{3:.6f})\".format(\"a\",primMatr[0][0],primMatr[0][1],primMatr[0][2])))\n",
    "display(Math(r\"\\overrightarrow{{b}}' = ({1:.6f},{2:.6f},{3:.6f})\".format(\"b\",primMatr[1][0],primMatr[1][1],primMatr[1][2])))\n",
    "display(Math(r\"\\overrightarrow{{c}}' = ({1:.6f},{2:.6f},{3:.6f})\".format(\"c\",primMatr[2][0],primMatr[2][1],primMatr[2][2])))\n",
    "\n",
    "#print()\n",
    "\n",
    "print(15*\"-\")\n",
    "print(\"Maille conventionnelle :\")\n",
    "display(Math(r\"\\overrightarrow{{a}} = ({1:.6f},{2:.6f},{3:.6f})\".format(\"a\",convMatr[0][0],convMatr[0][1],convMatr[0][2])))\n",
    "display(Math(r\"\\overrightarrow{{b}} = ({1:.6f},{2:.6f},{3:.6f})\".format(\"b\",convMatr[1][0],convMatr[1][1],convMatr[1][2])))\n",
    "display(Math(r\"\\overrightarrow{{c}} = ({1:.6f},{2:.6f},{3:.6f})\".format(\"c\",convMatr[2][0],convMatr[2][1],convMatr[2][2])))\n",
    "print(20*\"=\")"
   ]
  },
  {
   "cell_type": "code",
   "execution_count": 5,
   "id": "1dfb6cd0",
   "metadata": {},
   "outputs": [
    {
     "name": "stdout",
     "output_type": "stream",
     "text": [
      "====================\n",
      "Vecteurs du réseau réciproque :\n",
      "---------------\n",
      "Maille primitive :\n"
     ]
    },
    {
     "data": {
      "text/latex": [
       "$\\displaystyle \\overrightarrow{a^*}' = (-1.014476,1.014476,1.014476)$"
      ],
      "text/plain": [
       "<IPython.core.display.Math object>"
      ]
     },
     "metadata": {},
     "output_type": "display_data"
    },
    {
     "data": {
      "text/latex": [
       "$\\displaystyle \\overrightarrow{b^*}' = (1.014476,-1.014476,1.014476)$"
      ],
      "text/plain": [
       "<IPython.core.display.Math object>"
      ]
     },
     "metadata": {},
     "output_type": "display_data"
    },
    {
     "data": {
      "text/latex": [
       "$\\displaystyle \\overrightarrow{c^*}' = (1.014476,1.014476,-1.014476)$"
      ],
      "text/plain": [
       "<IPython.core.display.Math object>"
      ]
     },
     "metadata": {},
     "output_type": "display_data"
    },
    {
     "name": "stdout",
     "output_type": "stream",
     "text": [
      "---------------\n",
      "Maille conventionnelle :\n"
     ]
    },
    {
     "data": {
      "text/latex": [
       "$\\displaystyle \\overrightarrow{a^*} = (1.014476,0.000000,0.000000)$"
      ],
      "text/plain": [
       "<IPython.core.display.Math object>"
      ]
     },
     "metadata": {},
     "output_type": "display_data"
    },
    {
     "data": {
      "text/latex": [
       "$\\displaystyle \\overrightarrow{b^*} = (0.000000,1.014476,0.000000)$"
      ],
      "text/plain": [
       "<IPython.core.display.Math object>"
      ]
     },
     "metadata": {},
     "output_type": "display_data"
    },
    {
     "data": {
      "text/latex": [
       "$\\displaystyle \\overrightarrow{c^*} = (0.000000,0.000000,1.014476)$"
      ],
      "text/plain": [
       "<IPython.core.display.Math object>"
      ]
     },
     "metadata": {},
     "output_type": "display_data"
    },
    {
     "name": "stdout",
     "output_type": "stream",
     "text": [
      "====================\n"
     ]
    }
   ],
   "source": [
    "# Vecteurs de base du réseau réciproque\n",
    "\n",
    "convMatR = conv.reciprocal_lattice.matrix\n",
    "primMatR = prim.reciprocal_lattice.matrix\n",
    "\n",
    "convMatRr = vr(convMatR)\n",
    "primMatRr = vr(primMatR)\n",
    "\n",
    "print(20*\"=\")\n",
    "print(\"Vecteurs du réseau réciproque :\")\n",
    "print(15*\"-\")\n",
    "print(\"Maille primitive :\")\n",
    "display(Math(r\"\\overrightarrow{{a^*}}' = ({1:.6f},{2:.6f},{3:.6f})\".format(\"a\",primMatRr[0][0],primMatRr[0][1],primMatRr[0][2])))\n",
    "display(Math(r\"\\overrightarrow{{b^*}}' = ({1:.6f},{2:.6f},{3:.6f})\".format(\"b\",primMatRr[1][0],primMatRr[1][1],primMatRr[1][2])))\n",
    "display(Math(r\"\\overrightarrow{{c^*}}' = ({1:.6f},{2:.6f},{3:.6f})\".format(\"c\",primMatRr[2][0],primMatRr[2][1],primMatRr[2][2])))\n",
    "\n",
    "#print()\n",
    "\n",
    "print(15*\"-\")\n",
    "print(\"Maille conventionnelle :\")\n",
    "display(Math(r\"\\overrightarrow{{a^*}} = ({1:.6f},{2:.6f},{3:.6f})\".format(\"a\",convMatRr[0][0],convMatRr[0][1],convMatRr[0][2])))\n",
    "display(Math(r\"\\overrightarrow{{b^*}} = ({1:.6f},{2:.6f},{3:.6f})\".format(\"b\",convMatRr[1][0],convMatRr[1][1],convMatRr[1][2])))\n",
    "display(Math(r\"\\overrightarrow{{c^*}} = ({1:.6f},{2:.6f},{3:.6f})\".format(\"c\",convMatRr[2][0],convMatRr[2][1],convMatRr[2][2])))\n",
    "print(20*\"=\")"
   ]
  },
  {
   "cell_type": "code",
   "execution_count": 6,
   "id": "17b62abb",
   "metadata": {},
   "outputs": [
    {
     "name": "stdout",
     "output_type": "stream",
     "text": [
      "====================\n",
      "Type de maille :\n",
      "   cubic\n",
      "====================\n"
     ]
    }
   ],
   "source": [
    "# Type de maille\n",
    "\n",
    "print(20*\"=\")\n",
    "print(\"Type de maille :\")\n",
    "print(\"   \"+analyzer.get_lattice_type())\n",
    "print(20*\"=\")"
   ]
  },
  {
   "cell_type": "code",
   "execution_count": 7,
   "id": "9ae5c0a4",
   "metadata": {},
   "outputs": [
    {
     "name": "stdout",
     "output_type": "stream",
     "text": [
      "====================\n",
      "Système cristallin :\n",
      "   cubic\n",
      "====================\n"
     ]
    }
   ],
   "source": [
    "# Système cristallin\n",
    "\n",
    "print(20*\"=\")\n",
    "print(\"Système cristallin :\")\n",
    "print(\"   \"+analyzer.get_crystal_system())\n",
    "print(20*\"=\")"
   ]
  },
  {
   "cell_type": "code",
   "execution_count": 8,
   "id": "f4e1df7b",
   "metadata": {},
   "outputs": [
    {
     "name": "stdout",
     "output_type": "stream",
     "text": [
      "====================\n",
      "Système ponctuel :\n",
      "   -43m\n",
      "====================\n"
     ]
    }
   ],
   "source": [
    "# Groupe ponctuel\n",
    "\n",
    "print(20*\"=\")\n",
    "print(\"Système ponctuel :\")\n",
    "print(\"   \"+analyzer.get_point_group_symbol())\n",
    "print(20*\"=\")"
   ]
  },
  {
   "cell_type": "code",
   "execution_count": null,
   "id": "4688d478",
   "metadata": {},
   "outputs": [],
   "source": []
  }
 ],
 "metadata": {
  "kernelspec": {
   "display_name": "Python 3",
   "language": "python",
   "name": "python3"
  },
  "language_info": {
   "codemirror_mode": {
    "name": "ipython",
    "version": 3
   },
   "file_extension": ".py",
   "mimetype": "text/x-python",
   "name": "python",
   "nbconvert_exporter": "python",
   "pygments_lexer": "ipython3",
   "version": "3.6.8"
  }
 },
 "nbformat": 4,
 "nbformat_minor": 5
}
