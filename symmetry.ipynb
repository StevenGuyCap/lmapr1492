{
 "cells": [
  {
   "cell_type": "markdown",
   "id": "934639f8",
   "metadata": {},
   "source": [
    "# Etude des éléments de symmétrie\n",
    "\n",
    "<br />\n",
    "\n",
    "----\n",
    "\n",
    "## Mise en place du code\n",
    "\n",
    "<br />"
   ]
  },
  {
   "cell_type": "code",
   "execution_count": 1,
   "id": "ba50ba40",
   "metadata": {},
   "outputs": [],
   "source": [
    "# Téléchargement du matériau attribué\n",
    "\n",
    "from pymatgen.ext.matproj import MPRester\n",
    "from pymatgen.io.cif import CifWriter\n",
    "\n",
    "k = \"zkUgCxiKVvQri3sF2Sx\"  # Clé de l'API\n",
    "\n",
    "with MPRester(k) as m:\n",
    "    structure = m.get_structure_by_material_id(\"mp-31454\")  # Récupération de la structure assignée"
   ]
  },
  {
   "cell_type": "code",
   "execution_count": 2,
   "id": "2e4226b8",
   "metadata": {},
   "outputs": [],
   "source": [
    "# Import nécessaire à la suite du notebook\n",
    "\n",
    "from pymatgen.symmetry.analyzer import SpacegroupAnalyzer\n",
    "from jupyter_jsmol.pymatgen import quick_view"
   ]
  },
  {
   "cell_type": "code",
   "execution_count": 3,
   "id": "3cb146df",
   "metadata": {},
   "outputs": [],
   "source": [
    "# Analyzer de la structure cristalline\n",
    "analyzer = SpacegroupAnalyzer(structure)\n",
    "\n",
    "# Maille conventionnelle\n",
    "structure = analyzer.get_conventional_standard_structure()"
   ]
  },
  {
   "cell_type": "markdown",
   "id": "e5032014",
   "metadata": {},
   "source": [
    "---\n",
    "\n",
    "## Premier élément : plan miroir\n",
    "\n",
    "<br />\n",
    "\n",
    "$\\text{Prenons l'atome de Tantale en }(0,\\frac{1}{2},\\frac{1}{2})\\text{ comme point de départ.}$\n",
    "\n",
    "$\\text{Imaginons que nous souhaitons créer un élément de symétrie tel que l'image de l'atome initial par cette transformation nous donne}\\newline\\text{l'atome de Tantale se trouvant en }(\\frac{1}{2},0,\\frac{1}{2})\\text{.}$\n",
    "\n",
    "$\\text{Une telle transformation peut être obtenue soit par une translation, soit par un axe de rotation, soit par un plan miroir.}$\n",
    "\n",
    "<br />\n",
    "\n",
    "$\\text{Dans cette section, nous n'étudierons que le cas du plan miroir.}$\n",
    "\n",
    "$\\text{Afin de pouvoir déterminer l'équation de ce plan (ou du moins, la relation de transformation que celui-ci entraine), il est nécessaire}\\newline\\text{de connaitre la direction de sa normale. Celle-ci peut être obtenue en créant un vecteur entre nos deux points d'intérêt et qui aura la}\\newline\\text{même direction que cette normale.}$\n",
    "\n",
    "$\\overrightarrow{v} = (\\frac{1}{2},0,\\frac{1}{2}) - (0,\\frac{1}{2},\\frac{1}{2}) = (\\frac{1}{2},\\frac{-1}{2},0)$\n",
    "\n",
    "<br />\n",
    "\n",
    "$\\text{Ce vecteur a même direction que le vecteur créé par la combinaison linéaire : }\\overrightarrow{a}-\\overrightarrow{b}\\text{ où }\\overrightarrow{a}\\text{ et }\\overrightarrow{b}\\text{sont les vecteurs de base du réseau direct.}$\n",
    "\n",
    "$\\text{Nous pouvons donc conclure que le plan miroir que nous souhaitons obtenir est un plan de normale : }[1\\bar{1}0]$\n",
    "\n",
    "$\\text{En notation de Seitz, celui-ci est décrit comme : }\\{m[1\\bar{1}0]|000\\}\\text{.}$\n",
    "\n",
    "<br />\n",
    "\n",
    "$\\text{Afin de pouvoir représenter cette symétrie par l'intermédiaire de JSmol dans le code suivant, il nous faut obtenir la représentation de cette}\\newline\\text{opération selon les notations dites \"Jones-faithful\". Celles-ci représentent le résultat de l'application de l'opération de symétrie sur un point}\\newline\\text{se trouvant en }(x,y,z)\\text{.}$\n",
    "\n",
    "$\\text{Nous obtenons comme résultat : }(y,x,z)\\text{.}$\n",
    "\n",
    "<br />"
   ]
  },
  {
   "cell_type": "code",
   "execution_count": 4,
   "id": "88ca1be4",
   "metadata": {},
   "outputs": [
    {
     "data": {
      "application/vnd.jupyter.widget-view+json": {
       "model_id": "a45e674293cb48c4b2b6c03a88c294a7",
       "version_major": 2,
       "version_minor": 0
      },
      "text/plain": [
       "JsmolView(layout=Layout(align_self='stretch', height='400px'))"
      ]
     },
     "metadata": {},
     "output_type": "display_data"
    }
   ],
   "source": [
    "viewSym1 = quick_view(structure)\n",
    "display(viewSym1)"
   ]
  },
  {
   "cell_type": "code",
   "execution_count": 5,
   "id": "c577e542",
   "metadata": {},
   "outputs": [],
   "source": [
    "viewSym1.script('draw SYMOP \"y,x,z\" {0 1/2 1/2}')  # Plan de symétrie de normale [1-10]"
   ]
  },
  {
   "cell_type": "markdown",
   "id": "7f5742a4",
   "metadata": {},
   "source": [
    "---\n",
    "\n",
    "## Deuxième élément : axe de rotation d'ordre 3\n",
    "\n",
    "<br />\n",
    "\n",
    "$\\text{Prenons l'atome d'Antimoine en }(1,0,\\frac{1}{2})\\text{ comme point de départ.}$\n",
    "\n",
    "$\\text{Imaginons que nous souhaitons créer un élément de symétrie tel que l'image de l'atome initial par cette transformation nous donne}\\newline\\text{l'atome d'Antimoine se trouvant en }(\\frac{1}{2},1,0)\\text{.}$\n",
    "\n",
    "$\\text{Une telle transformation peut être obtenue soit par une translation, soit par un plan miroir, soit par un axe de rotation.}$\n",
    "\n",
    "<br />\n",
    "\n",
    "$\\text{Dans cette section, nous n'étudierons que le cas de l'axe de rotation.}$\n",
    "\n",
    "$\\text{Par développement algébrique de la matrice de transformation et changement de variable afin d'obtenir une matrice de rotation usuelle, nous}\\newline\\text{obtenons que cette opération est une rotation d'ordre 3 ayant comme axe directeur l'axe décrit par le vecteur}\\newline\\overrightarrow{v} = (1,1,1)\\text{ c'est-à-dire la direction }[111]\\text{.}$\n",
    "\n",
    "<br />\n",
    "\n",
    "$\\text{Ce résultat peut aussi être déduit de la notation \"Jones-faithful\" correspondate à cette transformation et étant :}\\newline(z,x,y)\\text{ et qui correspond bien à l'idée qu'il est possible d'avoir d'une rotation d'ordre 3 selon la direction }[111]\\text{.}$\n",
    "\n",
    "<br />\n",
    "\n",
    "$\\text{Finalement, en notation de Seitz, cette opération de symétrie est décrite comme : }\\{3[111]|000\\}\\text{.}$\n",
    "\n",
    "<br />"
   ]
  },
  {
   "cell_type": "code",
   "execution_count": 6,
   "id": "1f6bb644",
   "metadata": {},
   "outputs": [
    {
     "data": {
      "application/vnd.jupyter.widget-view+json": {
       "model_id": "b383f5bd0cf44257afbab5a2b0553934",
       "version_major": 2,
       "version_minor": 0
      },
      "text/plain": [
       "JsmolView(layout=Layout(align_self='stretch', height='400px'))"
      ]
     },
     "metadata": {},
     "output_type": "display_data"
    }
   ],
   "source": [
    "viewSym2 = quick_view(structure)\n",
    "display(viewSym2)"
   ]
  },
  {
   "cell_type": "code",
   "execution_count": 7,
   "id": "6a278250",
   "metadata": {},
   "outputs": [],
   "source": [
    "viewSym2.script('draw SYMOP \"z,x,y\" {1/1 0 1/2}')  # Rotation d'ordre 3 selon [111]"
   ]
  },
  {
   "cell_type": "markdown",
   "id": "10e252be",
   "metadata": {},
   "source": [
    "---\n",
    "\n",
    "## Troisième élément : axe de roto-translation d'ordre 4\n",
    "\n",
    "<br />\n",
    "\n",
    "$\\text{Prenons l'atome de Rutile en }(\\frac{1}{4},\\frac{3}{4},\\frac{1}{4})\\text{ comme point de départ.}$\n",
    "\n",
    "$\\text{Imaginons que nous souhaitons créer un élément de symétrie tel que l'image de l'atome initial par cette transformation nous donne}\\newline\\text{l'atome de Rutile se trouvant en }(\\frac{1}{4},\\frac{3}{4},\\frac{3}{4})\\text{.}$\n",
    "\n",
    "<br />\n",
    "\n",
    "$\\text{Dans cette section, nous choisissons d'effectuer cette transformation par l'intermédiaire d'un axe de roto-translation.}$\n",
    "\n",
    "$\\text{Nous puvons facilement obtenir que la composante de translation liée à cette opération de symétrie est de }\\frac{1}{2}\\text{ selon la direction donnée}\\newline\\text{par le vecteur }\\overrightarrow{c}\\text{ du réseau direct.}$\n",
    "\n",
    "<br />\n",
    "\n",
    "$\\text{Il reste à définir la direction et l'ordre de l'axe de rotation.}$\n",
    "\n",
    "$\\text{Tout d'abord, nous pouvons observer que la position }(\\frac{1}{4},\\frac{3}{4},\\frac{3}{4})\\text{ est équivalente à la position }(\\frac{3}{4},\\frac{-1}{4},\\frac{3}{4})\\text{ de part la périodicité du réseau cristallin.}$\n",
    "\n",
    "$\\text{Nous obtenons donc que cette opération de rotation peut être décrite en notation \"Jones-faithful\" par : }\\newline(y,-x,z)\\text{ ce qui correspond à une rotation dans le sens antihorlogique et d'ordre 4 selon l'axe décrit par le vecteur de base }\\overrightarrow{c}\\text{.}$\n",
    "\n",
    "<br />\n",
    "\n",
    "$\\text{Finalement, en notation de Seitz, cette-opération de symétrie est décrite comme : }\\{\\bar{4}[001]|00\\frac{1}{2}\\}\\text{.}$\n",
    "\n",
    "$\\text{La notation \"Jones-faithful\" correspondante est : }(y,-x,z+\\frac{1}{2})\\text{.}$\n",
    "\n",
    "<br />"
   ]
  },
  {
   "cell_type": "code",
   "execution_count": 8,
   "id": "a3b20181",
   "metadata": {},
   "outputs": [
    {
     "data": {
      "application/vnd.jupyter.widget-view+json": {
       "model_id": "597e05433fd44644ac3324a782f10036",
       "version_major": 2,
       "version_minor": 0
      },
      "text/plain": [
       "JsmolView(layout=Layout(align_self='stretch', height='400px'))"
      ]
     },
     "metadata": {},
     "output_type": "display_data"
    }
   ],
   "source": [
    "viewSym3 = quick_view(structure)\n",
    "display(viewSym3)"
   ]
  },
  {
   "cell_type": "code",
   "execution_count": 9,
   "id": "6d05e1e1",
   "metadata": {},
   "outputs": [],
   "source": [
    "viewSym3.script('draw SYMOP \"y,-x,z+1/2\" {1/4 3/4 1/4}')  # Screw d'ordre 4 avec translation de 1/2"
   ]
  },
  {
   "cell_type": "code",
   "execution_count": null,
   "id": "3984d1ad",
   "metadata": {},
   "outputs": [],
   "source": []
  }
 ],
 "metadata": {
  "kernelspec": {
   "display_name": "Python 3",
   "language": "python",
   "name": "python3"
  },
  "language_info": {
   "codemirror_mode": {
    "name": "ipython",
    "version": 3
   },
   "file_extension": ".py",
   "mimetype": "text/x-python",
   "name": "python",
   "nbconvert_exporter": "python",
   "pygments_lexer": "ipython3",
   "version": "3.6.8"
  }
 },
 "nbformat": 4,
 "nbformat_minor": 5
}
