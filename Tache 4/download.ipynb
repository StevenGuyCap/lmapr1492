{
 "cells": [
  {
   "cell_type": "code",
   "execution_count": null,
   "id": "ef97f300",
   "metadata": {},
   "outputs": [],
   "source": [
    "# Section des import\n",
    "\n",
    "import codecs\n",
    "from pymatgen.ext.matproj import MPRester\n",
    "from pymatgen.io.cif import CifWriter"
   ]
  },
  {
   "cell_type": "code",
   "execution_count": null,
   "id": "8055d62f",
   "metadata": {},
   "outputs": [],
   "source": [
    "# Clé de l'API\n",
    "# Stockée de manière codée\n",
    "\n",
    "x = (b'\\x00\\x01\\x02\\x03\\x04\\x12\\x0c\\x07\\x08\\t\\n\\x0b\\x0c\\r\\x0e\\x0f\\x10\\x11\\x12', 19)\n",
    "d = {122: 0, 107: 1, 85: 2, 103: 3, 67: 4, 120: 18, 105: 12, 75: 7, 86: 8, 118: 9, 81: 10, 114: 11, 51: 13, 115: 14, 70: 15, 50: 16, 83: 17}\n",
    "rd = {value : key for (key, value) in d.items()}\n",
    "k = codecs.charmap_decode(x[0],None,rd)"
   ]
  },
  {
   "cell_type": "code",
   "execution_count": null,
   "id": "90403a82",
   "metadata": {},
   "outputs": [],
   "source": [
    "# Récupération du matériau\n",
    "\n",
    "with MPRester(k[0]) as m:\n",
    "    structure = m.get_structure_by_material_id(\"mp-31454\")\n"
   ]
  },
  {
   "cell_type": "code",
   "execution_count": null,
   "id": "a3d743c7",
   "metadata": {},
   "outputs": [],
   "source": [
    "# Ecriture en CIF\n",
    "\n",
    "w = CifWriter(structure,symprec=0.1)\n",
    "w.write_file('mp-31454.cif')"
   ]
  },
  {
   "cell_type": "code",
   "execution_count": null,
   "id": "a24b869f",
   "metadata": {},
   "outputs": [],
   "source": []
  }
 ],
 "metadata": {
  "kernelspec": {
   "display_name": "Python 3",
   "language": "python",
   "name": "python3"
  },
  "language_info": {
   "codemirror_mode": {
    "name": "ipython",
    "version": 3
   },
   "file_extension": ".py",
   "mimetype": "text/x-python",
   "name": "python",
   "nbconvert_exporter": "python",
   "pygments_lexer": "ipython3",
   "version": "3.6.8"
  }
 },
 "nbformat": 4,
 "nbformat_minor": 5
}
